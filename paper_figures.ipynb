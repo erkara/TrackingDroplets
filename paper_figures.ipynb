{
 "cells": [
  {
   "cell_type": "code",
   "execution_count": null,
   "id": "9307ed60",
   "metadata": {},
   "outputs": [],
   "source": [
    "from myutils import GetImageAnnotationPairs,GetPredBboxes,GetImageBox\n",
    "import torch\n",
    "import matplotlib.pyplot as plt\n",
    "%matplotlib inline\n",
    "#use standard sizes for all figures\n",
    "SMALL_SIZE = 10\n",
    "MEDIUM_SIZE = 25\n",
    "BIGGER_SIZE = 30\n",
    "\n",
    "\n",
    "plt.rc('font', size = BIGGER_SIZE)          # controls default text sizes\n",
    "plt.rc('axes', titlesize = BIGGER_SIZE)     # fontsize of the axes title\n",
    "plt.rc('axes', labelsize = BIGGER_SIZE)    # fontsize of the x and y labels\n",
    "plt.rc('xtick', labelsize = MEDIUM_SIZE)   # fontsize of the tick labels\n",
    "plt.rc('ytick', labelsize = MEDIUM_SIZE)   # fontsize of the tick labels\n",
    "plt.rc('legend', fontsize = BIGGER_SIZE)   # legend fontsize\n",
    "plt.rc('figure', titlesize = BIGGER_SIZE)  # fontsize of the figure title\n",
    "import seaborn as sns\n",
    "import pandas as pd\n",
    "import numpy as np\n",
    "import cv2\n",
    "import os\n",
    "import math"
   ]
  },
  {
   "cell_type": "code",
   "execution_count": null,
   "id": "8fd4e128",
   "metadata": {},
   "outputs": [],
   "source": [
    "exp_list = {'control':1,'lights_off':1,'lights_low':1,'lights_high':1,'two_droplet':2,\n",
    "            'three_droplet':3,'res_mid':1,'res_low':1,'faraday':1,'corral_white':1,\n",
    "           '2white2black_10m':4,'3white':3,'2white2black_20m':4}"
   ]
  },
  {
   "cell_type": "markdown",
   "id": "48846089",
   "metadata": {
    "heading_collapsed": true
   },
   "source": [
    "## Training Results Plot"
   ]
  },
  {
   "cell_type": "code",
   "execution_count": null,
   "id": "7fabacc5",
   "metadata": {
    "hidden": true
   },
   "outputs": [],
   "source": []
  },
  {
   "cell_type": "code",
   "execution_count": null,
   "id": "92f530c3",
   "metadata": {
    "hidden": true
   },
   "outputs": [],
   "source": [
    "def PlotmAP(exp_name,save_dir='./figures/'):\n",
    "    df = pd.read_csv(f'train_results/{exp_name}.csv',skipinitialspace = True)\n",
    "    epochs = df['epoch']\n",
    "    mAP_05 = df['metrics/mAP_0.5']\n",
    "    mAP_0595 = df['metrics/mAP_0.5:0.95']\n",
    "    #plot\n",
    "    fig,ax = plt.subplots(figsize=(8,6))\n",
    "    ax.plot(epochs, mAP_05, label='mAP@0.5', linestyle='--')\n",
    "    ax.plot(epochs, mAP_0595, label='mAP@0.5:0.95')\n",
    "    ax.set_xlabel('epochs')\n",
    "    ax.set_ylabel('score')\n",
    "    ax.grid(True)\n",
    "    ax.legend()\n",
    "    plt.tight_layout()\n",
    "    ax.set_rasterized(True)\n",
    "    plt.savefig(f'{save_dir}/{exp_name}.eps',bbox_inches = 'tight',pad_inches = 0,format='eps', dpi=150)\n",
    "    #plt.show()\n"
   ]
  },
  {
   "cell_type": "code",
   "execution_count": null,
   "id": "2c1b40d0",
   "metadata": {
    "hidden": true
   },
   "outputs": [],
   "source": [
    "# PlotmAP(exp_name='combined_droplet')\n",
    "# PlotmAP(exp_name='combined_intruder')"
   ]
  },
  {
   "cell_type": "code",
   "execution_count": null,
   "id": "574c996a",
   "metadata": {
    "hidden": true
   },
   "outputs": [],
   "source": [
    "df = pd.read_csv('train_results/combined_droplet.csv',skipinitialspace = True)\n",
    "epochs = df['epoch']\n",
    "mAP_05 = df['metrics/mAP_0.5']\n",
    "mAP_0595 = df['metrics/mAP_0.5:0.95']\n",
    "#plot\n",
    "fig,ax = plt.subplots(1,2,figsize=(18,8),sharey=True)\n",
    "\n",
    "ax[0].plot(epochs, mAP_05, label='mAP@0.5', linestyle='--')\n",
    "ax[0].plot(epochs, mAP_0595, label='mAP@0.5:0.95')\n",
    "ax[0].set_xlabel('epochs')\n",
    "ax[0].set_ylabel('score')\n",
    "ax[0].grid(True)\n",
    "ax[0].legend()\n",
    "ax[0].set_rasterized(True)\n",
    "\n",
    "df = pd.read_csv('train_results/combined_intruder.csv',skipinitialspace = True)\n",
    "epochs = df['epoch']\n",
    "mAP_05 = df['metrics/mAP_0.5']\n",
    "mAP_0595 = df['metrics/mAP_0.5:0.95']\n",
    "\n",
    "ax[1].plot(epochs, mAP_05, label='mAP@0.5', linestyle='--')\n",
    "ax[1].plot(epochs, mAP_0595, label='mAP@0.5:0.95')\n",
    "ax[1].set_xlabel('epochs')\n",
    "#ax[0].set_ylabel('score')\n",
    "ax[1].grid(True)\n",
    "ax[1].legend()\n",
    "ax[1].set_rasterized(True)\n",
    "\n",
    "\n",
    "\n",
    "plt.tight_layout()\n",
    "plt.savefig('figures/combine_scores.eps',bbox_inches = 'tight',format='eps', dpi=150)\n",
    "#plt.show()\n"
   ]
  },
  {
   "cell_type": "code",
   "execution_count": null,
   "id": "7c09a725",
   "metadata": {
    "hidden": true
   },
   "outputs": [],
   "source": []
  },
  {
   "cell_type": "code",
   "execution_count": null,
   "id": "6185519b",
   "metadata": {
    "hidden": true
   },
   "outputs": [],
   "source": []
  },
  {
   "cell_type": "markdown",
   "id": "76cbb1b7",
   "metadata": {
    "heading_collapsed": true
   },
   "source": [
    "## Detection Samples Plots"
   ]
  },
  {
   "cell_type": "code",
   "execution_count": null,
   "id": "dfbcef91",
   "metadata": {
    "hidden": true
   },
   "outputs": [],
   "source": [
    "model_drop = \"best_droplet.pt\"\n",
    "model_int = \"best_intruder.pt\""
   ]
  },
  {
   "cell_type": "code",
   "execution_count": null,
   "id": "b6331ab6",
   "metadata": {
    "hidden": true
   },
   "outputs": [],
   "source": [
    "# import torch\n",
    "# model = torch.hub.load('ultralytics/yolov5', 'custom',path = model_drop, force_reload = True)\n",
    "model = torch.hub.load('ultralytics/yolov5', 'custom',path = model_int, force_reload = True)"
   ]
  },
  {
   "cell_type": "code",
   "execution_count": null,
   "id": "c2c4ac8a",
   "metadata": {
    "hidden": true
   },
   "outputs": [],
   "source": [
    "def PlotDetectionSamples(exp_name,num):\n",
    "    \"\"\"\n",
    "    exp_name: experiments above\n",
    "    num: random sample from test set. Make sure not to exceed\n",
    "    the number of test images.\n",
    "    \"\"\"\n",
    "    test_dir = f'datasets/annotations/{exp_name}/annot_images/test/'\n",
    "    img_paths,label_paths = GetImageAnnotationPairs(test_dir)\n",
    "    img_path = img_paths[num]\n",
    "    \n",
    "    label_path = label_paths[num]\n",
    "    #make sure to get the right couple\n",
    "    print(f\"{img_path}\\n{label_path}\")\n",
    "    #plot detection\n",
    "    img2 = GetPredBboxes(model,img_path)\n",
    "    plt.figure(figsize=(20,10))\n",
    "    plt.tight_layout()\n",
    "    plt.imshow(img2)\n",
    "    plt.gca().set_axis_off()\n",
    "    plt.subplots_adjust(top = 1, bottom = 0, right = 1, left = 0, \n",
    "                hspace = 0, wspace = 0)\n",
    "    plt.margins(0,0)\n",
    "    plt.savefig(f'figures/{exp_name}{num}.eps',bbox_inches = 'tight',pad_inches = 0,format='eps', dpi=150)\n",
    "    plt.show()\n"
   ]
  },
  {
   "cell_type": "code",
   "execution_count": null,
   "id": "e46eef40",
   "metadata": {
    "hidden": true
   },
   "outputs": [],
   "source": [
    "PlotDetectionSamples(\"3white\",num=2)"
   ]
  },
  {
   "cell_type": "markdown",
   "id": "afde8cb5",
   "metadata": {
    "heading_collapsed": true
   },
   "source": [
    "## Plot Speed and Flow"
   ]
  },
  {
   "cell_type": "code",
   "execution_count": null,
   "id": "d9ead539",
   "metadata": {
    "hidden": true
   },
   "outputs": [],
   "source": [
    "def GetDynamics(exp_name):\n",
    "    if exp_name not in exp_list.keys():\n",
    "        print(f'Enter a valid experiment name from the following list {exp_list.keys()}')\n",
    "    else:\n",
    "        df = pd.read_csv(f'tracking_results/{exp_name}.csv')\n",
    "    \n",
    "    nd = exp_list[exp_name]\n",
    "    xlist = [f\"x{i}\" for i in range(1,nd+1)]\n",
    "    dxlist = [f\"dx{i}\" for i in range(1,nd+1)]\n",
    "\n",
    "    ylist = [f\"y{i}\" for i in range(1,nd+1)]\n",
    "    dylist = [f\"dy{i}\" for i in range(1,nd+1)]\n",
    "\n",
    "    slist = [f\"speed{i}\" for i in range(1,nd+1)]\n",
    "\n",
    "    #get stuff column-wise\n",
    "    t = df[\"time\"].to_numpy()\n",
    "    xc = df[xlist].to_numpy()\n",
    "    dx = df[dxlist].to_numpy()\n",
    "\n",
    "    yc = df[ylist].to_numpy()\n",
    "    dy = df[dylist].to_numpy()\n",
    "\n",
    "    speed = df[slist].to_numpy()\n",
    "    \n",
    "    return t, xc, yc, dx, dy, speed"
   ]
  },
  {
   "cell_type": "code",
   "execution_count": null,
   "id": "dd91a8c6",
   "metadata": {
    "hidden": true
   },
   "outputs": [],
   "source": [
    "def PlotFlow(exp_name,save_dir='./figures/',sample_interval=5):\n",
    "    # flow plot for single droplet experiments\n",
    "    t, xc, yc, _, _, _ = GetDynamics(exp_name)\n",
    "    plt.figure(figsize=(10, 8))\n",
    "    x = xc[:,0][0:-1:sample_interval]\n",
    "    y = yc[:,0][0:-1:sample_interval]\n",
    "    dx = np.diff(x)\n",
    "    dy = np.diff(y)\n",
    "    dx1 = np.append(dx, 0)\n",
    "    dy1 = -np.append(dy, 0)\n",
    "    plt.plot(xc, yc, linestyle='-', color='tomato')\n",
    "    #plt.quiver(x, y, dx1, dy1, color='blue', units='width')\n",
    "    plt.plot(xc[0], yc[0], 'ks', label='initial point', markersize=15)\n",
    "    plt.plot(xc[-1], yc[-1], 'ko', label='terminal point', markersize=15)\n",
    "    plt.gca().invert_yaxis()\n",
    "    plt.legend(loc='upper left',labelspacing = 1.5)\n",
    "    plt.tight_layout()\n",
    "    plt.savefig(f'{save_dir}/{exp_name}_path.eps',format='eps', dpi=120)\n",
    "    plt.show()\n",
    "\n",
    "\n",
    "def PlotSpeed(exp_name,save_dir='./figures/',s=40):\n",
    "    # speed map\n",
    "    sns.set(style='ticks', font_scale=1.5)\n",
    "    _, xc, yc, _, _, speed = GetDynamics(exp_name)\n",
    "    nd = xc.shape[1]\n",
    "    for i in range(nd):\n",
    "        fig,ax = plt.subplots(figsize=(8,6))\n",
    "        ax.plot(xc[0,i], yc[0,i], 'ks', label='initial point', markersize=15)\n",
    "        ax.plot(xc[-1,i], yc[-1,i], 'ko', label='terminal point', markersize=15)\n",
    "        ax = sns.scatterplot(x=xc[:,i], y=yc[:,i], hue=speed[:,i], palette='coolwarm', s = 80)\n",
    "        ax.set(xlabel=None, ylabel=None)\n",
    "        norm = plt.Normalize(speed.min(), speed.max())\n",
    "        sm = plt.cm.ScalarMappable(cmap=\"coolwarm\", norm=norm)\n",
    "        sm.set_array([])\n",
    "        ax.invert_yaxis()\n",
    "        # Remove the legend and add a colorbar\n",
    "        ax.get_legend().remove()\n",
    "        ax.figure.colorbar(sm, label='speed[px/sec]')\n",
    "        ax.grid(False)\n",
    "        plt.tight_layout()\n",
    "        ax.set_rasterized(True)\n",
    "        plt.savefig(f'{save_dir}/{exp_name}_speed{i}.eps',format='eps', dpi=100)\n",
    "        #plt.savefig(f'{save_dir}/{exp_name}_speed{i}.jpg')\n",
    "        plt.show()"
   ]
  },
  {
   "cell_type": "code",
   "execution_count": null,
   "id": "2883bec4",
   "metadata": {
    "hidden": true
   },
   "outputs": [],
   "source": [
    "#PlotSpeed(\"control\")\n",
    "# PlotSpeed(\"lights_off\")\n",
    "# PlotSpeed(\"lights_high\")\n",
    "# PlotSpeed(\"res_mid\")\n",
    "#PlotSpeed(\"faraday\")"
   ]
  },
  {
   "cell_type": "code",
   "execution_count": null,
   "id": "6749be5f",
   "metadata": {
    "hidden": true
   },
   "outputs": [],
   "source": [
    "#PlotFlow(\"control\")\n",
    "#PlotFlow(\"lights_off\")\n",
    "#PlotFlow(\"lights_high\")\n",
    "#PlotFlow(\"res_mid\")\n",
    "#PlotFlow(\"faraday\")"
   ]
  },
  {
   "cell_type": "code",
   "execution_count": null,
   "id": "1e8f1338",
   "metadata": {
    "hidden": true
   },
   "outputs": [],
   "source": []
  },
  {
   "cell_type": "markdown",
   "id": "65f46bed",
   "metadata": {
    "heading_collapsed": true
   },
   "source": [
    "## StrongSort Experiments"
   ]
  },
  {
   "cell_type": "markdown",
   "id": "a8a36fcd",
   "metadata": {
    "hidden": true
   },
   "source": [
    "**three_droplet experiment with tracks**\n",
    "\n",
    "- This section is little bit messy, party because the process is nasty. I will include more info soon"
   ]
  },
  {
   "cell_type": "code",
   "execution_count": null,
   "id": "a4b2d0d0",
   "metadata": {
    "hidden": true
   },
   "outputs": [],
   "source": [
    "path_image = 'comparison/three_droplet/annot_three_drop/images/'\n",
    "path_label = 'comparison/three_droplet/annot_three_drop/labels/'\n",
    "image_name_sorted = sorted(os.listdir(path_image), key=lambda x: int(os.path.splitext(x)[0]))\n",
    "img_paths = [os.path.join(path_image,name) for name in image_name_sorted]\n",
    "label_name_sorted = sorted(os.listdir(path_label), key=lambda x: int(os.path.splitext(x)[0]))\n",
    "lab_paths = [os.path.join(path_label,name) for name in label_name_sorted]\n",
    "n = len(img_paths)"
   ]
  },
  {
   "cell_type": "code",
   "execution_count": null,
   "id": "cd3ba445",
   "metadata": {
    "hidden": true
   },
   "outputs": [],
   "source": [
    "nd = 3\n",
    "drop = np.zeros((nd,n,2))\n",
    "for i in range(n):\n",
    "    img = cv2.imread(img_paths[i])\n",
    "    H,W,_ = img.shape\n",
    "    #read annotation files in \"txt\" format\n",
    "    annot_df = pd.read_csv(lab_paths[i],sep=' ', header = None)\n",
    "    for j in range(nd):\n",
    "        #class_id,x0,y0,w0,h0\n",
    "        x0,y0,w0,h0 = annot_df.iloc[j].to_list()[1:]\n",
    "        \n",
    "        #class_id = annot_array[0] \n",
    "        xmax = (x0 + w0/2) * W\n",
    "        xmin = (x0 - w0/2) * W\n",
    "        xc = (xmin + xmax)/2\n",
    "        ymin = (y0 + h0/2) * H\n",
    "        ymax = (y0 - h0/2) * H\n",
    "        yc = (ymin + ymax)/2\n",
    "        drop[j,i] = [xc,yc]\n",
    "        \n",
    "        \n",
    "df_groundtruth = pd.DataFrame(columns=['frame_id','G_x1','G_y1','G_x2','G_y2','G_x3','G_y3'])\n",
    "df_groundtruth['frame_id'] = np.arange(n,dtype=np.int32)\n",
    "df_groundtruth[['G_x1','G_y1']] = drop[0]\n",
    "df_groundtruth[['G_x2','G_y2']]= drop[1]\n",
    "df_groundtruth[['G_x3','G_y3']] = drop[2]"
   ]
  },
  {
   "cell_type": "code",
   "execution_count": null,
   "id": "6b44859c",
   "metadata": {
    "hidden": true
   },
   "outputs": [],
   "source": [
    "df_groundtruth.head(3)"
   ]
  },
  {
   "cell_type": "code",
   "execution_count": null,
   "id": "9f1c6d8a",
   "metadata": {
    "hidden": true
   },
   "outputs": [],
   "source": [
    "#process DeepSort tracks given in MOT format\n",
    "def GetTracks(track_path_txt):\n",
    "    #clean deep-sort tracking to the following format\n",
    "    #(0=frame_id,1=ID,2=xmin,3=ymin,4=w,5=h)\n",
    "    df = pd.read_csv(track_path_txt,sep=\" \",header=None)\n",
    "    df = df[[0,1,2,3,4,5]]\n",
    "    cols = ['frame_id','ID','xmin','ymin','w','h']\n",
    "    df.columns = cols\n",
    "    df['xc'] = (df['xmin'] + 0.5*df['w'])\n",
    "    df['yc'] = (df['ymin'] + 0.5*df['h'])\n",
    "    \n",
    "    return df\n",
    "\n",
    "df_deepsort = GetTracks('comparison/three_droplet/three_droplets_sort_last.txt') \n",
    "\n",
    "print(df_deepsort.head(2))\n",
    "\n",
    "#convert to the same format to df_groundtruth above\n",
    "df_sort = pd.DataFrame(columns=['frame_id','D_x1','D_y1','D_x2','D_y2','D_x3','D_y3'])\n",
    "frameid_list = df_deepsort['frame_id'].unique()\n",
    "counter = 0\n",
    "for idx in frameid_list:\n",
    "    df_temp = df_deepsort[df_deepsort['frame_id']==idx]\n",
    "    if df_temp.shape[0]==nd:\n",
    "        IDs = df_temp['ID'].to_numpy()\n",
    "        centers = df_temp[['xc','yc']].to_numpy()\n",
    "        temp = centers.flatten()\n",
    "        temp = np.insert(temp,0,int(idx))\n",
    "        df_sort.loc[counter] = temp\n",
    "        counter+=1\n",
    "\n",
    "print(\"\\nfinal form\\n\")\n",
    "print(df_sort.head(2))"
   ]
  },
  {
   "cell_type": "code",
   "execution_count": null,
   "id": "8e27631a",
   "metadata": {
    "hidden": true
   },
   "outputs": [],
   "source": []
  },
  {
   "cell_type": "code",
   "execution_count": null,
   "id": "1ee83275",
   "metadata": {
    "hidden": true
   },
   "outputs": [],
   "source": [
    "#these tracks are from our algorithm\n",
    "df_mytrack = pd.read_csv('comparison/three_droplet/mytrack_three_droplet.csv')\n",
    "df_mytrack[['frame_id','x1','y1', 'x2' ,'y2' ,'x3', 'y3']]\n",
    "df_mytrack.head(2)"
   ]
  },
  {
   "cell_type": "code",
   "execution_count": null,
   "id": "a97ed377",
   "metadata": {
    "hidden": true
   },
   "outputs": [],
   "source": [
    "df_groundtruth.head(2)"
   ]
  },
  {
   "cell_type": "code",
   "execution_count": null,
   "id": "966bbd66",
   "metadata": {
    "hidden": true
   },
   "outputs": [],
   "source": [
    "#here we combine all the tracks into a single dataframe\n",
    "frameid_real = set(df_groundtruth['frame_id'])\n",
    "frameid_pred = set(df_mytrack['frame_id'])\n",
    "frameid_sort = set(df_sort['frame_id'])\n",
    "frame_id_final = list(frameid_sort.intersection(frameid_pred).intersection(frameid_real))\n",
    "\n",
    "cols = ['frame_id',\n",
    "        'G_x1','G_y1','G_x2','G_y2','G_x3','G_y3',\n",
    "       'H_x1','H_y1','H_x2','H_y2','H_x3','H_y3',\n",
    "       'D_x1','D_y1','D_x2','D_y2','D_x3','D_y3']\n",
    "df = pd.DataFrame(columns=cols)\n",
    "\n",
    "#this piece must be entered by hand, due to the randomness of the order of tracks. \n",
    "#I can automize this but it is not really necessary\n",
    "\n",
    "for i,idx in enumerate(frame_id_final):\n",
    "    temp = df_groundtruth[df_groundtruth['frame_id']==idx][['G_x1','G_y1','G_x2','G_y2','G_x3','G_y3']].values.flatten()\n",
    "    temp = np.append(temp,df_mytrack[df_mytrack['frame_id']==idx][['x3','y3', 'x1' ,'y1' ,'x2', 'y2']].values.flatten())\n",
    "    temp = np.append(temp,df_sort[df_sort['frame_id']==idx][['D_x2','D_y2','D_x1','D_y1','D_x3','D_y3']].values.flatten()) \n",
    "    temp = np.insert(temp,0,idx)\n",
    "    df.loc[i] = temp\n",
    "    \n",
    "df = df.astype(int)\n",
    "#write just in case\n",
    "df.to_csv('comparison/three_droplet/three_droplet_combined_tracks.csv')\n",
    "#this is the final clean track for each of the droplets\n",
    "df.head(2)"
   ]
  },
  {
   "cell_type": "code",
   "execution_count": null,
   "id": "40e0cc86",
   "metadata": {
    "hidden": true
   },
   "outputs": [],
   "source": [
    "drop1_real = df[['G_x1','G_y1']].values\n",
    "drop1_pred = df[['H_x1','H_y1']].values\n",
    "drop1_sort = df[['D_x1' ,'D_y1']].values\n",
    "xg1 = drop1_real[:,0]\n",
    "yg1 = drop1_real[:,1]\n",
    "xh1 = drop1_pred[:,0]\n",
    "yh1 = drop1_pred[:,1]\n",
    "xd1 = drop1_sort[:,0]\n",
    "yd1 = drop1_sort[:,1]\n",
    "\n",
    "drop2_real = df[['G_x2','G_y2']].values\n",
    "drop2_pred = df[['H_x2','H_y2']].values\n",
    "drop2_sort = df[['D_x2' ,'D_y2']].values\n",
    "xg2 = drop2_real[:,0]\n",
    "yg2 = drop2_real[:,1]\n",
    "xh2 = drop2_pred[:,0]\n",
    "yh2 = drop2_pred[:,1]\n",
    "xd2 = drop2_sort[:,0]\n",
    "yd2 = drop2_sort[:,1]\n",
    "\n",
    "drop3_real = df[['G_x3','G_y3']].values\n",
    "drop3_pred = df[['H_x3','H_y3']].values\n",
    "drop3_sort = df[['D_x3' ,'D_y3']].values\n",
    "xg3 = drop3_real[:,0]\n",
    "yg3 = drop3_real[:,1]\n",
    "xh3 = drop3_pred[:,0]\n",
    "yh3 = drop3_pred[:,1]\n",
    "xd3 = drop3_sort[:,0]\n",
    "yd3 = drop3_sort[:,1]"
   ]
  },
  {
   "cell_type": "code",
   "execution_count": null,
   "id": "e49fa086",
   "metadata": {
    "hidden": true
   },
   "outputs": [],
   "source": [
    "ms = 20\n",
    "fig,ax = plt.subplots(1,2,figsize=(16,8),sharey=True)\n",
    "img = plt.imread(f'comparison/three_droplet/annot_three_drop/images/{str(int(frame_id_final[-1]))}.jpg')\n",
    "ax[0].imshow(img)\n",
    "ax[0].plot(xg1[0],yg1[0], 'go', label='initial point', markersize=ms)\n",
    "ax[0].plot(xg1[-1],yg1[-1], 'gs', label='terminal point', markersize=ms)\n",
    "ax[0].plot(xg1,yg1,'r-',label='Ground Truth',linewidth=3)\n",
    "ax[0].plot(xh1,yh1,'b-',label='Hungrian Algrorithm ',linewidth=4)\n",
    "ax[0].set_xlim([200,325])\n",
    "ax[0].set_ylim([160,280])\n",
    "ax[0].legend(labelspacing = 1.5,fontsize=12)\n",
    "ax[0].invert_yaxis()\n",
    "ax[0].axis('off')\n",
    "ax[0].set_rasterized(True)\n",
    "\n",
    "#deep-sort\n",
    "ax[1].imshow(img)\n",
    "ax[1].plot(xg1[0],yg1[0], 'go', label='initial point', markersize=ms)\n",
    "ax[1].plot(xg1[-1],yg1[-1], 'gs', label='terminal point', markersize=ms)\n",
    "ax[1].plot(xg1,yg1,'r-',label='Ground Truth',linewidth=3)\n",
    "ax[1].plot(xd1,yd1,'b-',label='StrongSORT ',linewidth=4)\n",
    "ax[1].set_xlim([200,325])\n",
    "ax[1].set_ylim([160,280])\n",
    "ax[1].legend(labelspacing = 1.5,fontsize=12)\n",
    "ax[1].invert_yaxis()\n",
    "ax[1].axis('off')\n",
    "ax[1].set_rasterized(True)\n",
    "\n",
    "fig.tight_layout()\n",
    "fig.savefig(f'comparison/three_droplet/drop1.eps',format='eps', dpi=120)\n",
    "plt.show()"
   ]
  },
  {
   "cell_type": "code",
   "execution_count": null,
   "id": "b65f8cf3",
   "metadata": {
    "hidden": true
   },
   "outputs": [],
   "source": [
    "ms = 20\n",
    "fig,ax = plt.subplots(1,2,figsize=(16,8),sharey=True)\n",
    "img = plt.imread(f'comparison/three_droplet/annot_three_drop/images/{str(int(frame_id_final[-1]))}.jpg')\n",
    "ax[0].imshow(img)\n",
    "ax[0].plot(xg2[0],yg2[0], 'go', label='initial point', markersize=ms)\n",
    "ax[0].plot(xg2[-1],yg2[-1], 'gs', label='terminal point', markersize=ms)\n",
    "ax[0].plot(xg2,yg2,'r-',label='Groud Truth',linewidth=3)\n",
    "ax[0].plot(xh2,yh2,'b-',label='Hungrian Algrorithm ',linewidth=4)\n",
    "ax[0].set_xlim([200,350])\n",
    "ax[0].set_ylim([150,300])\n",
    "ax[0].legend(labelspacing = 1.5,fontsize=12)\n",
    "ax[0].invert_yaxis()\n",
    "ax[0].axis('off')\n",
    "ax[0].set_rasterized(True)\n",
    "\n",
    "#deep-sort\n",
    "ax[1].imshow(img)\n",
    "ax[1].plot(xg2[0],yg2[0], 'go', label='initial point', markersize=ms)\n",
    "ax[1].plot(xg2[-1],yg2[-1], 'gs', label='terminal point', markersize=ms)\n",
    "ax[1].plot(xg2,yg2,'r-',label='Groud Truth',linewidth=3)\n",
    "ax[1].plot(xd2,yd2,'b-',label='StrongSORT ',linewidth=4)\n",
    "ax[1].set_xlim([200,350])\n",
    "ax[1].set_ylim([150,300])\n",
    "ax[1].legend(labelspacing = 1.5,fontsize=12)\n",
    "ax[1].invert_yaxis()\n",
    "ax[1].axis('off')\n",
    "ax[1].set_rasterized(True)\n",
    "\n",
    "fig.tight_layout()\n",
    "fig.savefig(f'comparison/three_droplet/drop2.eps',format='eps', dpi=120)\n",
    "plt.show()"
   ]
  },
  {
   "cell_type": "code",
   "execution_count": null,
   "id": "c53e0679",
   "metadata": {
    "hidden": true
   },
   "outputs": [],
   "source": [
    "##this one matches\n",
    "# fig,ax = plt.subplots(1,2,figsize=(16,8),sharey=True)\n",
    "# img = plt.imread(f'comparison/three_droplet/annot_three_drop/images/{str(int(frame_id_final[-1]))}.jpg')\n",
    "# ax[0].imshow(img)\n",
    "# ax[0].plot(xg3[0],yg3[0], 'go', label='initial point', markersize=ms)\n",
    "# ax[0].plot(xg3[-1],yg3[-1], 'gs', label='terminal point', markersize=ms)\n",
    "# ax[0].plot(xg3,yg3,'r-',label='Groud Truth',linewidth=3)\n",
    "# ax[0].plot(xh3,yh3,'b-',label='Hungrian Algrorithm ',linewidth=3)\n",
    "# ax[0].set_xlim([150,350])\n",
    "# ax[0].set_ylim([100,300])\n",
    "# ax[0].legend(labelspacing = 1.5,fontsize=12)\n",
    "# ax[0].invert_yaxis()\n",
    "# ax[0].axis('off')\n",
    "# ax[0].set_rasterized(True)\n",
    "# #deep-sort\n",
    "# ax[1].imshow(img)\n",
    "# ax[1].plot(xg3[0],yg3[0], 'go', label='initial point', markersize=ms)\n",
    "# ax[1].plot(xg3[-1],yg3[-1], 'gs', label='terminal point', markersize=ms)\n",
    "# ax[1].plot(xg3,yg3,'r-',label='Groud Truth',linewidth=3)\n",
    "# ax[1].plot(xd3,yd3,'b-',label='StrongSORT ',linewidth=3)\n",
    "# ax[1].set_xlim([150,350])\n",
    "# ax[1].set_ylim([100,300])\n",
    "# ax[1].legend(labelspacing = 1.5,fontsize=12)\n",
    "# ax[1].invert_yaxis()\n",
    "# ax[1].axis('off')\n",
    "# ax[1].set_rasterized(True)\n",
    "\n",
    "# fig.tight_layout()\n",
    "# fig.savefig(f'comparison/three_droplet/drop3.eps',format='eps', dpi=120)\n",
    "# plt.show()"
   ]
  },
  {
   "cell_type": "markdown",
   "id": "20871e0b",
   "metadata": {
    "heading_collapsed": true
   },
   "source": [
    "## Optimal Training Images"
   ]
  },
  {
   "cell_type": "code",
   "execution_count": null,
   "id": "ebfcd84e",
   "metadata": {
    "hidden": true
   },
   "outputs": [],
   "source": [
    "# def PlotmAP(exp_name,save_dir='./figures/'):\n",
    "df = pd.read_csv(\"train_results/optimal_image_control.csv\")\n",
    "num_train = df['train_image_num']\n",
    "mAP_05 = df['mAP@0.5']\n",
    "mAP_0595 = df['mAP@0.5..0.95']\n",
    "fig,ax = plt.subplots(figsize=(10,8))\n",
    "ax.plot(num_train, mAP_05, label='mAP@0.5',marker='o')\n",
    "ax.plot(num_train, mAP_0595, label='mAP@0.5:0.95',marker='o')\n",
    "ax.set_xlabel('#training images')\n",
    "ax.set_ylabel('score')\n",
    "ax.set_yticks([round(0.1*i,2) for i in range(11) ])\n",
    "ax.grid(True)\n",
    "ax.legend()\n",
    "plt.tight_layout()\n",
    "ax.set_rasterized(True)\n",
    "plt.savefig('figures/full_train_control.eps',bbox_inches = 'tight',format='eps', dpi=120)\n",
    "plt.show()"
   ]
  },
  {
   "cell_type": "code",
   "execution_count": null,
   "id": "814024ef",
   "metadata": {
    "hidden": true
   },
   "outputs": [],
   "source": [
    "df = pd.read_csv(\"train_results/optimal_image_control_3droplet.csv\")\n",
    "num_train = df['train_image_num']\n",
    "mAP_05 = df['mAP@0.5']\n",
    "mAP_0595 = df['mAP@0.5..0.95']\n",
    "fig,ax = plt.subplots(figsize=(10,8))\n",
    "ax.plot(num_train, mAP_05, label='mAP@0.5',marker='o')\n",
    "ax.plot(num_train, mAP_0595, label='mAP@0.5:0.95',marker='o')\n",
    "ax.set_xlabel('#training images')\n",
    "ax.set_ylabel('score')\n",
    "ax.set_yticks([round(0.1*i,2) for i in range(11) ])\n",
    "ax.grid(True)\n",
    "ax.legend()\n",
    "plt.tight_layout()\n",
    "ax.set_rasterized(True)\n",
    "plt.savefig('figures/full_train_three.eps',bbox_inches = 'tight',format='eps', dpi=120)\n",
    "plt.show()"
   ]
  },
  {
   "cell_type": "code",
   "execution_count": null,
   "id": "88632dd5",
   "metadata": {
    "hidden": true
   },
   "outputs": [],
   "source": [
    "df = pd.read_csv(\"train_results/optimal_image_control.csv\")\n",
    "num_train = df['train_image_num']\n",
    "mAP_05 = df['mAP@0.5']\n",
    "mAP_0595 = df['mAP@0.5..0.95']\n",
    "fig,ax = plt.subplots(1,2,figsize=(18,8),sharey=True)\n",
    "\n",
    "ax[0].plot(num_train, mAP_05, label='mAP@0.5',marker='o')\n",
    "ax[0].plot(num_train, mAP_0595, label='mAP@0.5:0.95',marker='o')\n",
    "ax[0].set_xlabel('#training images')\n",
    "ax[0].set_ylabel('score')\n",
    "ax[0].set_yticks([round(0.1*i,2) for i in range(11) ])\n",
    "ax[0].grid(True)\n",
    "ax[0].legend()\n",
    "ax[0].set_rasterized(True)\n",
    "\n",
    "df = pd.read_csv(\"train_results/optimal_image_control_3droplet.csv\")\n",
    "num_train = df['train_image_num']\n",
    "mAP_05 = df['mAP@0.5']\n",
    "mAP_0595 = df['mAP@0.5..0.95']\n",
    "ax[1].plot(num_train, mAP_05, label='mAP@0.5',marker='o')\n",
    "ax[1].plot(num_train, mAP_0595, label='mAP@0.5:0.95',marker='o')\n",
    "ax[1].set_xlabel('#training images')\n",
    "#ax[1].set_ylabel('score')\n",
    "#ax[1].set_yticks([round(0.1*i,2) for i in range(11) ])\n",
    "ax[1].grid(True)\n",
    "ax[1].legend()\n",
    "ax[1].set_rasterized(True)\n",
    "\n",
    "\n",
    "\n",
    "plt.tight_layout()\n",
    "plt.savefig('figures/full_train.eps',format='eps', dpi=120)\n",
    "plt.show()"
   ]
  },
  {
   "cell_type": "code",
   "execution_count": null,
   "id": "c44680cd",
   "metadata": {
    "hidden": true
   },
   "outputs": [],
   "source": []
  },
  {
   "cell_type": "code",
   "execution_count": null,
   "id": "a850d5d5",
   "metadata": {
    "hidden": true
   },
   "outputs": [],
   "source": []
  },
  {
   "cell_type": "code",
   "execution_count": null,
   "id": "0f95ac8a",
   "metadata": {
    "hidden": true
   },
   "outputs": [],
   "source": []
  },
  {
   "cell_type": "code",
   "execution_count": null,
   "id": "f391649a",
   "metadata": {
    "hidden": true
   },
   "outputs": [],
   "source": []
  },
  {
   "cell_type": "code",
   "execution_count": null,
   "id": "ab49b291",
   "metadata": {
    "hidden": true
   },
   "outputs": [],
   "source": []
  },
  {
   "cell_type": "code",
   "execution_count": null,
   "id": "dd47b7d7",
   "metadata": {
    "hidden": true
   },
   "outputs": [],
   "source": []
  },
  {
   "cell_type": "code",
   "execution_count": null,
   "id": "fec00ead",
   "metadata": {
    "hidden": true
   },
   "outputs": [],
   "source": []
  },
  {
   "cell_type": "code",
   "execution_count": null,
   "id": "bd68c789",
   "metadata": {
    "hidden": true
   },
   "outputs": [],
   "source": []
  },
  {
   "cell_type": "code",
   "execution_count": null,
   "id": "4483c5e1",
   "metadata": {
    "hidden": true
   },
   "outputs": [],
   "source": []
  },
  {
   "cell_type": "code",
   "execution_count": null,
   "id": "dc1fa14c",
   "metadata": {
    "hidden": true
   },
   "outputs": [],
   "source": []
  },
  {
   "cell_type": "code",
   "execution_count": null,
   "id": "c5215b88",
   "metadata": {
    "hidden": true
   },
   "outputs": [],
   "source": []
  },
  {
   "cell_type": "code",
   "execution_count": null,
   "id": "9a4eea02",
   "metadata": {
    "hidden": true
   },
   "outputs": [],
   "source": []
  },
  {
   "cell_type": "code",
   "execution_count": null,
   "id": "636e8437",
   "metadata": {
    "hidden": true
   },
   "outputs": [],
   "source": []
  }
 ],
 "metadata": {
  "kernelspec": {
   "display_name": "Python 3 (ipykernel)",
   "language": "python",
   "name": "python3"
  },
  "language_info": {
   "codemirror_mode": {
    "name": "ipython",
    "version": 3
   },
   "file_extension": ".py",
   "mimetype": "text/x-python",
   "name": "python",
   "nbconvert_exporter": "python",
   "pygments_lexer": "ipython3",
   "version": "3.10.8"
  },
  "latex_envs": {
   "LaTeX_envs_menu_present": true,
   "autoclose": false,
   "autocomplete": false,
   "bibliofile": "biblio.bib",
   "cite_by": "apalike",
   "current_citInitial": 1,
   "eqLabelWithNumbers": true,
   "eqNumInitial": 1,
   "hotkeys": {
    "equation": "Ctrl-E",
    "itemize": "Ctrl-I"
   },
   "labels_anchors": false,
   "latex_user_defs": false,
   "report_style_numbering": false,
   "user_envs_cfg": false
  },
  "toc": {
   "base_numbering": 1,
   "nav_menu": {},
   "number_sections": true,
   "sideBar": true,
   "skip_h1_title": false,
   "title_cell": "Table of Contents",
   "title_sidebar": "Contents",
   "toc_cell": false,
   "toc_position": {},
   "toc_section_display": true,
   "toc_window_display": true
  }
 },
 "nbformat": 4,
 "nbformat_minor": 5
}
